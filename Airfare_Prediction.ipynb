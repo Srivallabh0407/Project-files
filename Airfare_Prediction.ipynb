{
 "cells": [
  {
   "cell_type": "code",
   "execution_count": 1,
   "metadata": {},
   "outputs": [],
   "source": [
    "import pandas as pd"
   ]
  },
  {
   "cell_type": "code",
   "execution_count": 2,
   "metadata": {},
   "outputs": [
    {
     "data": {
      "text/html": [
       "<div>\n",
       "<style scoped>\n",
       "    .dataframe tbody tr th:only-of-type {\n",
       "        vertical-align: middle;\n",
       "    }\n",
       "\n",
       "    .dataframe tbody tr th {\n",
       "        vertical-align: top;\n",
       "    }\n",
       "\n",
       "    .dataframe thead th {\n",
       "        text-align: right;\n",
       "    }\n",
       "</style>\n",
       "<table border=\"1\" class=\"dataframe\">\n",
       "  <thead>\n",
       "    <tr style=\"text-align: right;\">\n",
       "      <th></th>\n",
       "      <th>Year</th>\n",
       "      <th>Quarter</th>\n",
       "      <th>Origin</th>\n",
       "      <th>Destination</th>\n",
       "      <th>Distance</th>\n",
       "      <th>Average Fare</th>\n",
       "      <th>carrier_lg</th>\n",
       "      <th>carrier_low</th>\n",
       "    </tr>\n",
       "  </thead>\n",
       "  <tbody>\n",
       "    <tr>\n",
       "      <th>0</th>\n",
       "      <td>1996</td>\n",
       "      <td>3</td>\n",
       "      <td>Charlotte, NC</td>\n",
       "      <td>Pittsburgh, PA</td>\n",
       "      <td>366</td>\n",
       "      <td>244.04</td>\n",
       "      <td>US</td>\n",
       "      <td>DL</td>\n",
       "    </tr>\n",
       "    <tr>\n",
       "      <th>1</th>\n",
       "      <td>1996</td>\n",
       "      <td>4</td>\n",
       "      <td>Minneapolis/St. Paul, MN</td>\n",
       "      <td>Seattle, WA</td>\n",
       "      <td>1399</td>\n",
       "      <td>196.84</td>\n",
       "      <td>NW</td>\n",
       "      <td>F9</td>\n",
       "    </tr>\n",
       "    <tr>\n",
       "      <th>2</th>\n",
       "      <td>1996</td>\n",
       "      <td>2</td>\n",
       "      <td>Albany, NY</td>\n",
       "      <td>Washington, DC (Metropolitan Area)</td>\n",
       "      <td>325</td>\n",
       "      <td>194.06</td>\n",
       "      <td>US</td>\n",
       "      <td>AA</td>\n",
       "    </tr>\n",
       "    <tr>\n",
       "      <th>3</th>\n",
       "      <td>1996</td>\n",
       "      <td>2</td>\n",
       "      <td>Milwaukee, WI</td>\n",
       "      <td>Phoenix, AZ</td>\n",
       "      <td>1460</td>\n",
       "      <td>149.49</td>\n",
       "      <td>HP</td>\n",
       "      <td>TZ</td>\n",
       "    </tr>\n",
       "    <tr>\n",
       "      <th>4</th>\n",
       "      <td>1996</td>\n",
       "      <td>2</td>\n",
       "      <td>Birmingham, AL</td>\n",
       "      <td>Miami, FL (Metropolitan Area)</td>\n",
       "      <td>661</td>\n",
       "      <td>140.64</td>\n",
       "      <td>DL</td>\n",
       "      <td>WN</td>\n",
       "    </tr>\n",
       "    <tr>\n",
       "      <th>...</th>\n",
       "      <td>...</td>\n",
       "      <td>...</td>\n",
       "      <td>...</td>\n",
       "      <td>...</td>\n",
       "      <td>...</td>\n",
       "      <td>...</td>\n",
       "      <td>...</td>\n",
       "      <td>...</td>\n",
       "    </tr>\n",
       "    <tr>\n",
       "      <th>102025</th>\n",
       "      <td>2021</td>\n",
       "      <td>2</td>\n",
       "      <td>Syracuse, NY</td>\n",
       "      <td>Tampa, FL (Metropolitan Area)</td>\n",
       "      <td>1111</td>\n",
       "      <td>160.47</td>\n",
       "      <td>G4</td>\n",
       "      <td>G4</td>\n",
       "    </tr>\n",
       "    <tr>\n",
       "      <th>102026</th>\n",
       "      <td>2021</td>\n",
       "      <td>2</td>\n",
       "      <td>Knoxville, TN</td>\n",
       "      <td>New York City, NY (Metropolitan Area)</td>\n",
       "      <td>684</td>\n",
       "      <td>201.60</td>\n",
       "      <td>G4</td>\n",
       "      <td>G4</td>\n",
       "    </tr>\n",
       "    <tr>\n",
       "      <th>102027</th>\n",
       "      <td>2021</td>\n",
       "      <td>2</td>\n",
       "      <td>Knoxville, TN</td>\n",
       "      <td>Miami, FL (Metropolitan Area)</td>\n",
       "      <td>724</td>\n",
       "      <td>130.13</td>\n",
       "      <td>G4</td>\n",
       "      <td>G4</td>\n",
       "    </tr>\n",
       "    <tr>\n",
       "      <th>102028</th>\n",
       "      <td>2021</td>\n",
       "      <td>2</td>\n",
       "      <td>Knoxville, TN</td>\n",
       "      <td>Tampa, FL (Metropolitan Area)</td>\n",
       "      <td>550</td>\n",
       "      <td>108.25</td>\n",
       "      <td>G4</td>\n",
       "      <td>G4</td>\n",
       "    </tr>\n",
       "    <tr>\n",
       "      <th>102029</th>\n",
       "      <td>2021</td>\n",
       "      <td>2</td>\n",
       "      <td>Knoxville, TN</td>\n",
       "      <td>Sanford, FL</td>\n",
       "      <td>511</td>\n",
       "      <td>75.66</td>\n",
       "      <td>G4</td>\n",
       "      <td>G4</td>\n",
       "    </tr>\n",
       "  </tbody>\n",
       "</table>\n",
       "<p>102027 rows × 8 columns</p>\n",
       "</div>"
      ],
      "text/plain": [
       "        Year  Quarter                    Origin  \\\n",
       "0       1996        3             Charlotte, NC   \n",
       "1       1996        4  Minneapolis/St. Paul, MN   \n",
       "2       1996        2                Albany, NY   \n",
       "3       1996        2             Milwaukee, WI   \n",
       "4       1996        2            Birmingham, AL   \n",
       "...      ...      ...                       ...   \n",
       "102025  2021        2              Syracuse, NY   \n",
       "102026  2021        2             Knoxville, TN   \n",
       "102027  2021        2             Knoxville, TN   \n",
       "102028  2021        2             Knoxville, TN   \n",
       "102029  2021        2             Knoxville, TN   \n",
       "\n",
       "                                  Destination  Distance  Average Fare  \\\n",
       "0                              Pittsburgh, PA       366        244.04   \n",
       "1                                 Seattle, WA      1399        196.84   \n",
       "2          Washington, DC (Metropolitan Area)       325        194.06   \n",
       "3                                 Phoenix, AZ      1460        149.49   \n",
       "4               Miami, FL (Metropolitan Area)       661        140.64   \n",
       "...                                       ...       ...           ...   \n",
       "102025          Tampa, FL (Metropolitan Area)      1111        160.47   \n",
       "102026  New York City, NY (Metropolitan Area)       684        201.60   \n",
       "102027          Miami, FL (Metropolitan Area)       724        130.13   \n",
       "102028          Tampa, FL (Metropolitan Area)       550        108.25   \n",
       "102029                            Sanford, FL       511         75.66   \n",
       "\n",
       "       carrier_lg carrier_low  \n",
       "0              US          DL  \n",
       "1              NW          F9  \n",
       "2              US          AA  \n",
       "3              HP          TZ  \n",
       "4              DL          WN  \n",
       "...           ...         ...  \n",
       "102025         G4          G4  \n",
       "102026         G4          G4  \n",
       "102027         G4          G4  \n",
       "102028         G4          G4  \n",
       "102029         G4          G4  \n",
       "\n",
       "[102027 rows x 8 columns]"
      ]
     },
     "execution_count": 2,
     "metadata": {},
     "output_type": "execute_result"
    }
   ],
   "source": [
    "df=pd.read_csv('Airfare_Prediction.csv')\n",
    "df=df.dropna()\n",
    "df\n",
    "\n"
   ]
  },
  {
   "cell_type": "code",
   "execution_count": null,
   "metadata": {},
   "outputs": [],
   "source": []
  },
  {
   "cell_type": "code",
   "execution_count": 4,
   "metadata": {},
   "outputs": [
    {
     "data": {
      "text/plain": [
       "Text(0.5, 1.0, '5 Major Carriers and their average fares')"
      ]
     },
     "execution_count": 4,
     "metadata": {},
     "output_type": "execute_result"
    },
    {
     "data": {
      "image/png": "[encoded data removed]",
      "text/plain": [
       "<Figure size 432x288 with 1 Axes>"
      ]
     },
     "metadata": {
      "needs_background": "light"
     },
     "output_type": "display_data"
    }
   ],
   "source": [
    "import matplotlib.pyplot as plt\n",
    "import numpy as np\n",
    "# major_airlines=df.where(=='DL'or df['carrier_lg']=='AA'or df['carrier_lg']=='UA'or df['carrier_lg']=='WN']\n",
    "aa_average=df.where(df['carrier_lg']=='AA').mean()['Average Fare']\n",
    "ua_average=df.where(df['carrier_lg']=='UA').mean()['Average Fare']\n",
    "sw_average=df.where(df['carrier_lg']=='WN').mean()['Average Fare']\n",
    "dl_average=df.where(df['carrier_lg']=='DL').mean()['Average Fare']\n",
    "jb_average=df.where(df['carrier_lg']=='B6').mean()['Average Fare']\n",
    "\n",
    "Airlines =['American','United','South West','Delta',\"Jet Blue\"]\n",
    "pos = np.arange(len(Airlines))\n",
    "avg_fares = [aa_average,ua_average,sw_average,dl_average,jb_average]\n",
    "\n",
    "bars=plt.bar(pos, avg_fares, align='center')\n",
    "bars[0].set_color('darkred')\n",
    "bars[2].set_color('yellow')\n",
    "bars[3].set_color('red')\n",
    "bars[4].set_color('steelblue')\n",
    "plt.xticks(pos, Airlines)\n",
    "plt.xlabel('Airlines')\n",
    "plt.ylabel('Average Fares($)')\n",
    "plt.title('5 Major Carriers and their average fares')\n",
    "\n",
    "\n",
    "# plt.plot(df['Distance'],df['Average Fare'])\n",
    "\n",
    "\n",
    "\n",
    "\n",
    "\n",
    "\n",
    "\n",
    "\n",
    "\n",
    "\n",
    "\n",
    "\n",
    "\n",
    "\n",
    "\n",
    "\n",
    "\n",
    "\n",
    "\n",
    "\n",
    "\n",
    "\n",
    "\n",
    "\n",
    "\n",
    "\n",
    "\n",
    "\n",
    "\n",
    "\n",
    "\n",
    "\n",
    "\n",
    "\n",
    "\n",
    "\n",
    "\n"
   ]
  },
  {
   "cell_type": "code",
   "execution_count": 6,
   "metadata": {
    "scrolled": false
   },
   "outputs": [
    {
     "data": {
      "text/plain": [
       "Atlanta, GA (Metropolitan Area)        5901\n",
       "Chicago, IL                            5688\n",
       "Dallas/Fort Worth, TX                  5175\n",
       "Boston, MA (Metropolitan Area)         4976\n",
       "Denver, CO                             4129\n",
       "Houston, TX                            3663\n",
       "Las Vegas, NV                          3555\n",
       "Los Angeles, CA (Metropolitan Area)    3510\n",
       "Detroit, MI                            3036\n",
       "Charlotte, NC                          2962\n",
       "Name: Origin, dtype: int64"
      ]
     },
     "execution_count": 6,
     "metadata": {},
     "output_type": "execute_result"
    }
   ],
   "source": [
    "df['Origin'].value_counts()[:10].sort_values(ascending=False)"
   ]
  },
  {
   "cell_type": "code",
   "execution_count": 5,
   "metadata": {},
   "outputs": [
    {
     "data": {
      "text/plain": [
       "209.6027293447296"
      ]
     },
     "execution_count": 5,
     "metadata": {},
     "output_type": "execute_result"
    }
   ],
   "source": [
    "atl_average=df.where(df['Origin']=='Atlanta, GA (Metropolitan Area)').mean()['Average Fare']\n",
    "ord_average=df.where(df['Origin']=='Chicago, IL' ).mean()['Average Fare']\n",
    "dfw_average=df.where(df['Origin']=='Dallas/Fort Worth, TX').mean()['Average Fare']\n",
    "bos_average=df.where(df['Origin']=='Boston, MA (Metropolitan Area)').mean()['Average Fare']\n",
    "lax_average=df.where(df['Origin']=='Los Angeles, CA (Metropolitan Area)').mean()['Average Fare']\n",
    "lax_average"
   ]
  },
  {
   "cell_type": "code",
   "execution_count": 8,
   "metadata": {},
   "outputs": [
    {
     "ename": "IndexError",
     "evalue": "list index out of range",
     "output_type": "error",
     "traceback": [
      "\u001b[1;31m---------------------------------------------------------------------------\u001b[0m",
      "\u001b[1;31mIndexError\u001b[0m                                Traceback (most recent call last)",
      "\u001b[1;32m<ipython-input-8-68aa9297b511>\u001b[0m in \u001b[0;36m<module>\u001b[1;34m\u001b[0m\n\u001b[0;32m      6\u001b[0m \u001b[0mplt\u001b[0m\u001b[1;33m.\u001b[0m\u001b[0mscatter\u001b[0m\u001b[1;33m(\u001b[0m\u001b[0mOrigin\u001b[0m\u001b[1;33m[\u001b[0m\u001b[1;36m2\u001b[0m\u001b[1;33m]\u001b[0m\u001b[1;33m,\u001b[0m\u001b[0morigin_fares\u001b[0m\u001b[1;33m[\u001b[0m\u001b[1;36m2\u001b[0m\u001b[1;33m]\u001b[0m\u001b[1;33m,\u001b[0m\u001b[0mcolor\u001b[0m\u001b[1;33m=\u001b[0m\u001b[1;34m'yellow'\u001b[0m\u001b[1;33m)\u001b[0m\u001b[1;33m\u001b[0m\u001b[1;33m\u001b[0m\u001b[0m\n\u001b[0;32m      7\u001b[0m \u001b[0mplt\u001b[0m\u001b[1;33m.\u001b[0m\u001b[0mscatter\u001b[0m\u001b[1;33m(\u001b[0m\u001b[0mOrigin\u001b[0m\u001b[1;33m[\u001b[0m\u001b[1;36m3\u001b[0m\u001b[1;33m]\u001b[0m\u001b[1;33m,\u001b[0m\u001b[0morigin_fares\u001b[0m\u001b[1;33m[\u001b[0m\u001b[1;36m3\u001b[0m\u001b[1;33m]\u001b[0m\u001b[1;33m,\u001b[0m\u001b[0mcolor\u001b[0m\u001b[1;33m=\u001b[0m\u001b[1;34m'purple'\u001b[0m\u001b[1;33m)\u001b[0m\u001b[1;33m\u001b[0m\u001b[1;33m\u001b[0m\u001b[0m\n\u001b[1;32m----> 8\u001b[1;33m \u001b[0mplt\u001b[0m\u001b[1;33m.\u001b[0m\u001b[0mscatter\u001b[0m\u001b[1;33m(\u001b[0m\u001b[0mOrigin\u001b[0m\u001b[1;33m[\u001b[0m\u001b[1;36m4\u001b[0m\u001b[1;33m]\u001b[0m\u001b[1;33m,\u001b[0m\u001b[0morigin_fares\u001b[0m\u001b[1;33m[\u001b[0m\u001b[1;36m4\u001b[0m\u001b[1;33m]\u001b[0m\u001b[1;33m,\u001b[0m\u001b[0mcolor\u001b[0m\u001b[1;33m=\u001b[0m\u001b[1;34m'brown'\u001b[0m\u001b[1;33m)\u001b[0m\u001b[1;33m\u001b[0m\u001b[1;33m\u001b[0m\u001b[0m\n\u001b[0m\u001b[0;32m      9\u001b[0m \u001b[0mplt\u001b[0m\u001b[1;33m.\u001b[0m\u001b[0mxlabel\u001b[0m\u001b[1;33m(\u001b[0m\u001b[1;34m'Origin Airports'\u001b[0m\u001b[1;33m)\u001b[0m\u001b[1;33m\u001b[0m\u001b[1;33m\u001b[0m\u001b[0m\n\u001b[0;32m     10\u001b[0m \u001b[0mplt\u001b[0m\u001b[1;33m.\u001b[0m\u001b[0mylabel\u001b[0m\u001b[1;33m(\u001b[0m\u001b[1;34m'Average Fares($)'\u001b[0m\u001b[1;33m)\u001b[0m\u001b[1;33m\u001b[0m\u001b[1;33m\u001b[0m\u001b[0m\n",
      "\u001b[1;31mIndexError\u001b[0m: list index out of range"
     ]
    },
    {
     "data": {
      "image/png": "[encoded data removed]",
      "text/plain": [
       "<Figure size 432x288 with 1 Axes>"
      ]
     },
     "metadata": {
      "needs_background": "light"
     },
     "output_type": "display_data"
    }
   ],
   "source": [
    "Origin =['Atlanta','Chicago ','Dallas','Boston','Denver']\n",
    "pos = np.arange(len(Origin))\n",
    "origin_fares = [atl_average,ord_average,dfw_average,bos_average]\n",
    "plt.scatter(Origin[0],origin_fares[0],color='red')\n",
    "plt.scatter(Origin[1],origin_fares[1],color='blue')\n",
    "plt.scatter(Origin[2],origin_fares[2],color='yellow')\n",
    "plt.scatter(Origin[3],origin_fares[3],color='purple')\n",
    "plt.scatter(Origin[4],origin_fares[4],color='brown')\n",
    "plt.xlabel('Origin Airports')\n",
    "plt.ylabel('Average Fares($)')\n",
    "plt.title('4 Major Airports and Their Average Fares')\n",
    "\n",
    "\n",
    "\n"
   ]
  },
  {
   "cell_type": "code",
   "execution_count": 20,
   "metadata": {},
   "outputs": [],
   "source": [
    "q1_average=df.where(df['Quarter']==1).mean()['Average Fare']\n",
    "q2_average=df.where(df['Quarter']==2).mean()['Average Fare']\n",
    "q3_average=df.where(df['Quarter']==3).mean()['Average Fare']\n",
    "q4_average=df.where(df['Quarter']==4).mean()['Average Fare']\n"
   ]
  },
  {
   "cell_type": "code",
   "execution_count": 23,
   "metadata": {},
   "outputs": [
    {
     "data": {
      "text/plain": [
       "Text(0.5, 1.0, 'Average Fares in every Quarter')"
      ]
     },
     "execution_count": 23,
     "metadata": {},
     "output_type": "execute_result"
    },
    {
     "data": {
      "image/png": "[encoded data removed]",
      "text/plain": [
       "<Figure size 432x288 with 1 Axes>"
      ]
     },
     "metadata": {
      "needs_background": "light"
     },
     "output_type": "display_data"
    }
   ],
   "source": [
    "Quarters =['Quarter1','Quarter2','Quarter3','Quarter4']\n",
    "pos = np.arange(len(Quarters))\n",
    "quarter_fares = [q1_average,q2_average,q3_average,q4_average]\n",
    "plt.plot(Quarters,quarter_fares,'-o',color='red',linewidth=3)\n",
    "\n",
    "plt.xlabel('Quarters')\n",
    "plt.ylabel('Average Fares($)')\n",
    "plt.title('Average Fares in every Quarter')"
   ]
  },
  {
   "cell_type": "code",
   "execution_count": 28,
   "metadata": {},
   "outputs": [
    {
     "data": {
      "text/plain": [
       "Text(0.5, 1.0, 'Flying Distance vs Average Fares')"
      ]
     },
     "execution_count": 28,
     "metadata": {},
     "output_type": "execute_result"
    },
    {
     "data": {
      "image/png": "[encoded data removed]",
      "text/plain": [
       "<Figure size 432x288 with 2 Axes>"
      ]
     },
     "metadata": {
      "needs_background": "light"
     },
     "output_type": "display_data"
    }
   ],
   "source": [
    "plt.figure()\n",
    "plt.hist2d(df['Distance'],df['Average Fare'],bins=1000)\n",
    "plt.colorbar()\n",
    "plt.xlabel('Distance in miles')\n",
    "plt.ylabel('Average Fares($)')\n",
    "plt.title('Flying Distance vs Average Fares')\n"
   ]
  },
  {
   "cell_type": "code",
   "execution_count": 2,
   "metadata": {},
   "outputs": [
    {
     "ename": "NameError",
     "evalue": "name 'df' is not defined",
     "output_type": "error",
     "traceback": [
      "\u001b[1;31m---------------------------------------------------------------------------\u001b[0m",
      "\u001b[1;31mNameError\u001b[0m                                 Traceback (most recent call last)",
      "\u001b[1;32m<ipython-input-2-c744c86b844c>\u001b[0m in \u001b[0;36m<module>\u001b[1;34m\u001b[0m\n\u001b[0;32m      1\u001b[0m \u001b[1;31m# Flight fare prediction\u001b[0m\u001b[1;33m\u001b[0m\u001b[1;33m\u001b[0m\u001b[1;33m\u001b[0m\u001b[0m\n\u001b[1;32m----> 2\u001b[1;33m \u001b[0mdf\u001b[0m\u001b[1;33m.\u001b[0m\u001b[0mcorr\u001b[0m\u001b[1;33m(\u001b[0m\u001b[1;33m)\u001b[0m\u001b[1;33m\u001b[0m\u001b[1;33m\u001b[0m\u001b[0m\n\u001b[0m",
      "\u001b[1;31mNameError\u001b[0m: name 'df' is not defined"
     ]
    }
   ],
   "source": [
    "# Flight fare prediction\n",
    "df.corr()"
   ]
  },
  {
   "cell_type": "code",
   "execution_count": 8,
   "metadata": {},
   "outputs": [],
   "source": [
    "# Encoding categorical values\n",
    "from sklearn import preprocessing\n",
    "le = preprocessing.LabelEncoder()\n",
    "\n",
    "# df=df.drop(['Average Fare'],axis=1)\n",
    "data_categorical=df.select_dtypes(exclude=[\"int64\",\"float\",\"int32\"])\n",
    "data_numerical=df.select_dtypes(include=[\"int64\",\"float\",\"int32\"])\n",
    "data_categorical=data_categorical[['Origin','Destination']]\n",
    "data_categorical=data_categorical.apply(le.fit_transform)\n"
   ]
  },
  {
   "cell_type": "code",
   "execution_count": 9,
   "metadata": {},
   "outputs": [
    {
     "data": {
      "text/html": [
       "<div>\n",
       "<style scoped>\n",
       "    .dataframe tbody tr th:only-of-type {\n",
       "        vertical-align: middle;\n",
       "    }\n",
       "\n",
       "    .dataframe tbody tr th {\n",
       "        vertical-align: top;\n",
       "    }\n",
       "\n",
       "    .dataframe thead th {\n",
       "        text-align: right;\n",
       "    }\n",
       "</style>\n",
       "<table border=\"1\" class=\"dataframe\">\n",
       "  <thead>\n",
       "    <tr style=\"text-align: right;\">\n",
       "      <th></th>\n",
       "      <th>Origin</th>\n",
       "      <th>Destination</th>\n",
       "    </tr>\n",
       "  </thead>\n",
       "  <tbody>\n",
       "    <tr>\n",
       "      <th>0</th>\n",
       "      <td>28</td>\n",
       "      <td>86</td>\n",
       "    </tr>\n",
       "    <tr>\n",
       "      <th>1</th>\n",
       "      <td>94</td>\n",
       "      <td>113</td>\n",
       "    </tr>\n",
       "    <tr>\n",
       "      <th>2</th>\n",
       "      <td>0</td>\n",
       "      <td>133</td>\n",
       "    </tr>\n",
       "    <tr>\n",
       "      <th>3</th>\n",
       "      <td>93</td>\n",
       "      <td>85</td>\n",
       "    </tr>\n",
       "    <tr>\n",
       "      <th>4</th>\n",
       "      <td>17</td>\n",
       "      <td>61</td>\n",
       "    </tr>\n",
       "    <tr>\n",
       "      <th>...</th>\n",
       "      <td>...</td>\n",
       "      <td>...</td>\n",
       "    </tr>\n",
       "    <tr>\n",
       "      <th>102025</th>\n",
       "      <td>141</td>\n",
       "      <td>126</td>\n",
       "    </tr>\n",
       "    <tr>\n",
       "      <th>102026</th>\n",
       "      <td>78</td>\n",
       "      <td>73</td>\n",
       "    </tr>\n",
       "    <tr>\n",
       "      <th>102027</th>\n",
       "      <td>78</td>\n",
       "      <td>61</td>\n",
       "    </tr>\n",
       "    <tr>\n",
       "      <th>102028</th>\n",
       "      <td>78</td>\n",
       "      <td>126</td>\n",
       "    </tr>\n",
       "    <tr>\n",
       "      <th>102029</th>\n",
       "      <td>78</td>\n",
       "      <td>108</td>\n",
       "    </tr>\n",
       "  </tbody>\n",
       "</table>\n",
       "<p>102027 rows × 2 columns</p>\n",
       "</div>"
      ],
      "text/plain": [
       "        Origin  Destination\n",
       "0           28           86\n",
       "1           94          113\n",
       "2            0          133\n",
       "3           93           85\n",
       "4           17           61\n",
       "...        ...          ...\n",
       "102025     141          126\n",
       "102026      78           73\n",
       "102027      78           61\n",
       "102028      78          126\n",
       "102029      78          108\n",
       "\n",
       "[102027 rows x 2 columns]"
      ]
     },
     "execution_count": 9,
     "metadata": {},
     "output_type": "execute_result"
    }
   ],
   "source": [
    "data_categorical\n",
    "data_numerical=data_numerical[['Year','Quarter','Distance']]\n",
    "x=pd.concat([data_categorical,data_numerical],axis=1)\n",
    "y=df['Average Fare']\n",
    "data_categorical\n"
   ]
  },
  {
   "cell_type": "code",
   "execution_count": 10,
   "metadata": {},
   "outputs": [],
   "source": [
    "from sklearn.model_selection import train_test_split"
   ]
  },
  {
   "cell_type": "code",
   "execution_count": 11,
   "metadata": {},
   "outputs": [],
   "source": [
    " X_train,X_test,y_train,y_test=train_test_split(x,y,random_state=0)"
   ]
  },
  {
   "cell_type": "code",
   "execution_count": 12,
   "metadata": {},
   "outputs": [],
   "source": [
    "from sklearn.ensemble import RandomForestRegressor"
   ]
  },
  {
   "cell_type": "code",
   "execution_count": 14,
   "metadata": {},
   "outputs": [
    {
     "name": "stdout",
     "output_type": "stream",
     "text": [
      "Training R2 score: 0.9900722258288731\n",
      "Testing R2 score: 0.9283567739773287\n"
     ]
    }
   ],
   "source": [
    "random_forest=RandomForestRegressor(n_estimators=100,max_depth=40).fit(X_train,y_train)\n",
    "print('Training R2 score: {}'.format(random_forest.score(X_train,y_train)))\n",
    "print('Testing R2 score: {}'.format(random_forest.score(X_test,y_test)))\n",
    "\n",
    "\n"
   ]
  },
  {
   "cell_type": "code",
   "execution_count": 95,
   "metadata": {},
   "outputs": [
    {
     "name": "stdout",
     "output_type": "stream",
     "text": [
      "[0.5 1.5 2.5 3.5 4.5]\n"
     ]
    },
    {
     "data": {
      "text/plain": [
       "Text(0.5, 1.0, 'Feature Importance(Random Forest Regressor)')"
      ]
     },
     "execution_count": 95,
     "metadata": {},
     "output_type": "execute_result"
    },
    {
     "data": {
      "image/png": "[encoded data removed]",
      "text/plain": [
       "<Figure size 432x288 with 1 Axes>"
      ]
     },
     "metadata": {
      "needs_background": "light"
     },
     "output_type": "display_data"
    }
   ],
   "source": [
    "feature_importance = random_forest.feature_importances_\n",
    "sorted_idx = np.argsort(feature_importance)\n",
    "pos = np.arange(sorted_idx.shape[0]) + .5\n",
    "print(pos)\n",
    "plt.figure()\n",
    "plt.barh(pos, feature_importance[sorted_idx], align='center')\n",
    "plt.yticks(pos, np.array(X_train.columns)[sorted_idx])\n",
    "plt.title('Feature Importance(Random Forest Regressor)')"
   ]
  },
  {
   "cell_type": "code",
   "execution_count": null,
   "metadata": {},
   "outputs": [],
   "source": []
  }
 ],
 "metadata": {
  "kernelspec": {
   "display_name": "Python 3",
   "language": "python",
   "name": "python3"
  },
  "language_info": {
   "codemirror_mode": {
    "name": "ipython",
    "version": 3
   },
   "file_extension": ".py",
   "mimetype": "text/x-python",
   "name": "python",
   "nbconvert_exporter": "python",
   "pygments_lexer": "ipython3",
   "version": "3.8.3"
  }
 },
 "nbformat": 4,
 "nbformat_minor": 4
}
