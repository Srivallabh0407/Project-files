{
 "cells": [
  {
   "cell_type": "code",
   "execution_count": 1,
   "metadata": {},
   "outputs": [],
   "source": [
    "import pandas as pd\n",
    "import numpy as np\n",
    "from sklearn.ensemble import RandomForestClassifier\n",
    "from sklearn.model_selection import train_test_split\n",
    "from sklearn.metrics import roc_curve,auc\n",
    "def blight_model():\n",
    "    df = pd.read_csv('train.csv', encoding = \"ISO-8859-1\")\n",
    "#     address = pd.read_csv('readonly/addresses.csv')\n",
    "#     latlons = pd.read_csv('readonly/latlons.csv')\n",
    "# #     df=df.join(addresses,how='left')\n",
    "#     address = address.set_index('address').join(latlons.set_index('address'), how='left')\n",
    "#     df=df.set_index('ticket_id').join(address.set_index('ticket_id'))\n",
    "    feature_names=['fine_amount','admin_fee','state_fee','late_fee']\n",
    "    df=df[(df['compliance']==0)|(df['compliance']==1)]\n",
    "    X=df[feature_names]\n",
    "    y=df['compliance']\n",
    "    X.fillna(value = -1)\n",
    "    y.fillna(value=-1)\n",
    "    X_train,X_test,y_train,y_test=train_test_split(X,y,random_state=0)\n",
    "    \n",
    "    \n",
    "#     X_train.fillna(X_train.mean())\n",
    "#     X_train=float()\n",
    "#     X_test.fillna(X_test.mean())\n",
    "#     y_train.fillna(y_train.mean())\n",
    "    rclf=RandomForestClassifier(n_estimators=8,max_depth=5).fit(X_train,y_train)\n",
    "    y_predict=rclf.predict(X_test)\n",
    "    y_train_score=rclf.score(X_train,y_train)\n",
    "    y_score=rclf.score(X_test,y_test)\n",
    "    print(y_score)\n",
    "    fpr,tpr,_=roc_curve(y_test,y_predict)\n",
    "    roc_auc=auc(fpr,tpr)\n",
    "    print(roc_auc)\n",
    "    df_test=pd.read_csv('test.csv')\n",
    "    df_test1=df_test.set_index('ticket_id')\n",
    "    df_test1=df_test1[feature_names]\n",
    "   \n",
    "    final_predict=rclf.predict_proba(df_test1)\n",
    "    \n",
    "    answer=pd.Series(final_predict[:,1],index=df_test['ticket_id'])\n",
    "    return answer\n",
    "    \n",
    "    \n",
    "    \n",
    "    \n",
    "    \n",
    "    \n",
    "    "
   ]
  },
  {
   "cell_type": "code",
   "execution_count": 5,
   "metadata": {},
   "outputs": [
    {
     "name": "stderr",
     "output_type": "stream",
     "text": [
      "C:\\Users\\Vallabh\\anaconda3\\lib\\site-packages\\IPython\\core\\interactiveshell.py:3254: DtypeWarning: Columns (11,12,31) have mixed types.Specify dtype option on import or set low_memory=False.\n",
      "  if (await self.run_code(code, result,  async_=asy)):\n"
     ]
    },
    {
     "name": "stdout",
     "output_type": "stream",
     "text": [
      "0.9284713535151363\n",
      "0.5057053941908713\n"
     ]
    },
    {
     "data": {
      "text/plain": [
       "ticket_id\n",
       "284932    0.059902\n",
       "285362    0.026536\n",
       "285361    0.067339\n",
       "285338    0.059902\n",
       "285346    0.067339\n",
       "            ...   \n",
       "376496    0.026536\n",
       "376497    0.026536\n",
       "376499    0.067339\n",
       "376500    0.067339\n",
       "369851    0.306080\n",
       "Length: 61001, dtype: float64"
      ]
     },
     "execution_count": 5,
     "metadata": {},
     "output_type": "execute_result"
    }
   ],
   "source": [
    "blight_model()"
   ]
  },
  {
   "cell_type": "code",
   "execution_count": 5,
   "metadata": {},
   "outputs": [],
   "source": []
  },
  {
   "cell_type": "code",
   "execution_count": 8,
   "metadata": {},
   "outputs": [
    {
     "data": {
      "text/html": [
       "<div>\n",
       "<style scoped>\n",
       "    .dataframe tbody tr th:only-of-type {\n",
       "        vertical-align: middle;\n",
       "    }\n",
       "\n",
       "    .dataframe tbody tr th {\n",
       "        vertical-align: top;\n",
       "    }\n",
       "\n",
       "    .dataframe thead th {\n",
       "        text-align: right;\n",
       "    }\n",
       "</style>\n",
       "<table border=\"1\" class=\"dataframe\">\n",
       "  <thead>\n",
       "    <tr style=\"text-align: right;\">\n",
       "      <th></th>\n",
       "      <th>DAY RATE INVOICE SUMMARY RIG DIVISION - MAY 2018 TO JUNE 2020</th>\n",
       "    </tr>\n",
       "  </thead>\n",
       "  <tbody>\n",
       "    <tr>\n",
       "      <th>0</th>\n",
       "      <td>Month/ Year\\nDISCOVERY I\\nVIRTUE I\\nJINDAL STA...</td>\n",
       "    </tr>\n",
       "  </tbody>\n",
       "</table>\n",
       "</div>"
      ],
      "text/plain": [
       "  DAY RATE INVOICE SUMMARY RIG DIVISION - MAY 2018 TO JUNE 2020\n",
       "0  Month/ Year\\nDISCOVERY I\\nVIRTUE I\\nJINDAL STA...           "
      ]
     },
     "execution_count": 8,
     "metadata": {},
     "output_type": "execute_result"
    }
   ],
   "source": []
  },
  {
   "cell_type": "code",
   "execution_count": null,
   "metadata": {},
   "outputs": [],
   "source": []
  }
 ],
 "metadata": {
  "kernelspec": {
   "display_name": "Python 3",
   "language": "python",
   "name": "python3"
  },
  "language_info": {
   "codemirror_mode": {
    "name": "ipython",
    "version": 3
   },
   "file_extension": ".py",
   "mimetype": "text/x-python",
   "name": "python",
   "nbconvert_exporter": "python",
   "pygments_lexer": "ipython3",
   "version": "3.8.3"
  }
 },
 "nbformat": 4,
 "nbformat_minor": 4
}
